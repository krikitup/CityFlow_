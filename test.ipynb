{
 "cells": [
  {
   "cell_type": "code",
   "execution_count": 16,
   "id": "9dc80a0e",
   "metadata": {},
   "outputs": [],
   "source": [
    "import cityflow\n",
    "import os\n"
   ]
  },
  {
   "cell_type": "code",
   "execution_count": 21,
   "id": "e43bd917",
   "metadata": {},
   "outputs": [],
   "source": [
    "engine = cityflow.Engine( 'exampes_new/config.json', thread_num=4)"
   ]
  },
  {
   "cell_type": "code",
   "execution_count": 22,
   "id": "c3afae10",
   "metadata": {},
   "outputs": [],
   "source": [
    "for _ in range(4000):\n",
    "    engine.next_step()"
   ]
  },
  {
   "cell_type": "code",
   "execution_count": 16,
   "id": "0dd1f8d4",
   "metadata": {},
   "outputs": [
    {
     "name": "stdout",
     "output_type": "stream",
     "text": [
      "Step 0:\n",
      "Vehicles: []\n",
      "Lane vehicles: {'road_1_0_1_0': 0, 'road_1_0_1_1': 0, 'road_1_0_1_2': 0, 'road_1_1_0_0': 0, 'road_1_1_0_1': 0, 'road_1_1_0_2': 0, 'road_1_1_2_0': 0, 'road_1_1_2_1': 0, 'road_1_1_2_2': 0, 'road_1_2_1_0': 0, 'road_1_2_1_1': 0, 'road_1_2_1_2': 0}\n",
      "Step 100:\n",
      "Vehicles: []\n",
      "Lane vehicles: {'road_1_0_1_0': 0, 'road_1_0_1_1': 0, 'road_1_0_1_2': 0, 'road_1_1_0_0': 0, 'road_1_1_0_1': 0, 'road_1_1_0_2': 0, 'road_1_1_2_0': 0, 'road_1_1_2_1': 0, 'road_1_1_2_2': 0, 'road_1_2_1_0': 0, 'road_1_2_1_1': 0, 'road_1_2_1_2': 0}\n",
      "Step 200:\n",
      "Vehicles: []\n",
      "Lane vehicles: {'road_1_0_1_0': 0, 'road_1_0_1_1': 0, 'road_1_0_1_2': 0, 'road_1_1_0_0': 0, 'road_1_1_0_1': 0, 'road_1_1_0_2': 0, 'road_1_1_2_0': 0, 'road_1_1_2_1': 0, 'road_1_1_2_2': 0, 'road_1_2_1_0': 0, 'road_1_2_1_1': 0, 'road_1_2_1_2': 0}\n",
      "Step 300:\n",
      "Vehicles: []\n",
      "Lane vehicles: {'road_1_0_1_0': 0, 'road_1_0_1_1': 0, 'road_1_0_1_2': 0, 'road_1_1_0_0': 0, 'road_1_1_0_1': 0, 'road_1_1_0_2': 0, 'road_1_1_2_0': 0, 'road_1_1_2_1': 0, 'road_1_1_2_2': 0, 'road_1_2_1_0': 0, 'road_1_2_1_1': 0, 'road_1_2_1_2': 0}\n",
      "Step 400:\n",
      "Vehicles: []\n",
      "Lane vehicles: {'road_1_0_1_0': 0, 'road_1_0_1_1': 0, 'road_1_0_1_2': 0, 'road_1_1_0_0': 0, 'road_1_1_0_1': 0, 'road_1_1_0_2': 0, 'road_1_1_2_0': 0, 'road_1_1_2_1': 0, 'road_1_1_2_2': 0, 'road_1_2_1_0': 0, 'road_1_2_1_1': 0, 'road_1_2_1_2': 0}\n",
      "Step 500:\n",
      "Vehicles: []\n",
      "Lane vehicles: {'road_1_0_1_0': 0, 'road_1_0_1_1': 0, 'road_1_0_1_2': 0, 'road_1_1_0_0': 0, 'road_1_1_0_1': 0, 'road_1_1_0_2': 0, 'road_1_1_2_0': 0, 'road_1_1_2_1': 0, 'road_1_1_2_2': 0, 'road_1_2_1_0': 0, 'road_1_2_1_1': 0, 'road_1_2_1_2': 0}\n",
      "Step 600:\n",
      "Vehicles: []\n",
      "Lane vehicles: {'road_1_0_1_0': 0, 'road_1_0_1_1': 0, 'road_1_0_1_2': 0, 'road_1_1_0_0': 0, 'road_1_1_0_1': 0, 'road_1_1_0_2': 0, 'road_1_1_2_0': 0, 'road_1_1_2_1': 0, 'road_1_1_2_2': 0, 'road_1_2_1_0': 0, 'road_1_2_1_1': 0, 'road_1_2_1_2': 0}\n",
      "Step 700:\n",
      "Vehicles: []\n",
      "Lane vehicles: {'road_1_0_1_0': 0, 'road_1_0_1_1': 0, 'road_1_0_1_2': 0, 'road_1_1_0_0': 0, 'road_1_1_0_1': 0, 'road_1_1_0_2': 0, 'road_1_1_2_0': 0, 'road_1_1_2_1': 0, 'road_1_1_2_2': 0, 'road_1_2_1_0': 0, 'road_1_2_1_1': 0, 'road_1_2_1_2': 0}\n",
      "Step 800:\n",
      "Vehicles: []\n",
      "Lane vehicles: {'road_1_0_1_0': 0, 'road_1_0_1_1': 0, 'road_1_0_1_2': 0, 'road_1_1_0_0': 0, 'road_1_1_0_1': 0, 'road_1_1_0_2': 0, 'road_1_1_2_0': 0, 'road_1_1_2_1': 0, 'road_1_1_2_2': 0, 'road_1_2_1_0': 0, 'road_1_2_1_1': 0, 'road_1_2_1_2': 0}\n",
      "Step 900:\n",
      "Vehicles: []\n",
      "Lane vehicles: {'road_1_0_1_0': 0, 'road_1_0_1_1': 0, 'road_1_0_1_2': 0, 'road_1_1_0_0': 0, 'road_1_1_0_1': 0, 'road_1_1_0_2': 0, 'road_1_1_2_0': 0, 'road_1_1_2_1': 0, 'road_1_1_2_2': 0, 'road_1_2_1_0': 0, 'road_1_2_1_1': 0, 'road_1_2_1_2': 0}\n"
     ]
    }
   ],
   "source": [
    "# Run simulation with detailed monitoring\n",
    "for step in range(1000):\n",
    "    engine.next_step()\n",
    "    if step % 100 == 0:\n",
    "        vehicles = engine.get_vehicles()\n",
    "        print(f\"Step {step}:\")\n",
    "        print(f\"Vehicles: {vehicles}\")\n",
    "        \n",
    "        # Get detailed info for each vehicle\n",
    "        for vehicle_id in vehicles:\n",
    "            vehicle_info = engine.get_vehicle_info(vehicle_id)\n",
    "            print(f\"Vehicle ID: {vehicle_id}, Info: {vehicle_info}\")\n",
    "        \n",
    "        print(f\"Lane vehicles: {engine.get_lane_vehicle_count()}\")"
   ]
  },
  {
   "cell_type": "code",
   "execution_count": 9,
   "id": "9232556a",
   "metadata": {},
   "outputs": [
    {
     "name": "stdout",
     "output_type": "stream",
     "text": [
      "Step 0:\n",
      "Vehicles: []\n",
      "Lane vehicles: {'road_1_0_1_0': 0, 'road_1_0_1_1': 0, 'road_1_0_1_2': 0, 'road_1_1_0_0': 0, 'road_1_1_0_1': 0, 'road_1_1_0_2': 0, 'road_1_1_2_0': 0, 'road_1_1_2_1': 0, 'road_1_1_2_2': 0, 'road_1_2_1_0': 0, 'road_1_2_1_1': 0, 'road_1_2_1_2': 0}\n",
      "Step 100:\n",
      "Vehicles: []\n",
      "Lane vehicles: {'road_1_0_1_0': 0, 'road_1_0_1_1': 0, 'road_1_0_1_2': 0, 'road_1_1_0_0': 0, 'road_1_1_0_1': 0, 'road_1_1_0_2': 0, 'road_1_1_2_0': 0, 'road_1_1_2_1': 0, 'road_1_1_2_2': 0, 'road_1_2_1_0': 0, 'road_1_2_1_1': 0, 'road_1_2_1_2': 0}\n",
      "Step 200:\n",
      "Vehicles: []\n",
      "Lane vehicles: {'road_1_0_1_0': 0, 'road_1_0_1_1': 0, 'road_1_0_1_2': 0, 'road_1_1_0_0': 0, 'road_1_1_0_1': 0, 'road_1_1_0_2': 0, 'road_1_1_2_0': 0, 'road_1_1_2_1': 0, 'road_1_1_2_2': 0, 'road_1_2_1_0': 0, 'road_1_2_1_1': 0, 'road_1_2_1_2': 0}\n",
      "Step 300:\n",
      "Vehicles: []\n",
      "Lane vehicles: {'road_1_0_1_0': 0, 'road_1_0_1_1': 0, 'road_1_0_1_2': 0, 'road_1_1_0_0': 0, 'road_1_1_0_1': 0, 'road_1_1_0_2': 0, 'road_1_1_2_0': 0, 'road_1_1_2_1': 0, 'road_1_1_2_2': 0, 'road_1_2_1_0': 0, 'road_1_2_1_1': 0, 'road_1_2_1_2': 0}\n",
      "Step 400:\n",
      "Vehicles: []\n",
      "Lane vehicles: {'road_1_0_1_0': 0, 'road_1_0_1_1': 0, 'road_1_0_1_2': 0, 'road_1_1_0_0': 0, 'road_1_1_0_1': 0, 'road_1_1_0_2': 0, 'road_1_1_2_0': 0, 'road_1_1_2_1': 0, 'road_1_1_2_2': 0, 'road_1_2_1_0': 0, 'road_1_2_1_1': 0, 'road_1_2_1_2': 0}\n",
      "Step 500:\n",
      "Vehicles: []\n",
      "Lane vehicles: {'road_1_0_1_0': 0, 'road_1_0_1_1': 0, 'road_1_0_1_2': 0, 'road_1_1_0_0': 0, 'road_1_1_0_1': 0, 'road_1_1_0_2': 0, 'road_1_1_2_0': 0, 'road_1_1_2_1': 0, 'road_1_1_2_2': 0, 'road_1_2_1_0': 0, 'road_1_2_1_1': 0, 'road_1_2_1_2': 0}\n",
      "Step 600:\n",
      "Vehicles: []\n",
      "Lane vehicles: {'road_1_0_1_0': 0, 'road_1_0_1_1': 0, 'road_1_0_1_2': 0, 'road_1_1_0_0': 0, 'road_1_1_0_1': 0, 'road_1_1_0_2': 0, 'road_1_1_2_0': 0, 'road_1_1_2_1': 0, 'road_1_1_2_2': 0, 'road_1_2_1_0': 0, 'road_1_2_1_1': 0, 'road_1_2_1_2': 0}\n",
      "Step 700:\n",
      "Vehicles: []\n",
      "Lane vehicles: {'road_1_0_1_0': 0, 'road_1_0_1_1': 0, 'road_1_0_1_2': 0, 'road_1_1_0_0': 0, 'road_1_1_0_1': 0, 'road_1_1_0_2': 0, 'road_1_1_2_0': 0, 'road_1_1_2_1': 0, 'road_1_1_2_2': 0, 'road_1_2_1_0': 0, 'road_1_2_1_1': 0, 'road_1_2_1_2': 0}\n",
      "Step 800:\n",
      "Vehicles: []\n",
      "Lane vehicles: {'road_1_0_1_0': 0, 'road_1_0_1_1': 0, 'road_1_0_1_2': 0, 'road_1_1_0_0': 0, 'road_1_1_0_1': 0, 'road_1_1_0_2': 0, 'road_1_1_2_0': 0, 'road_1_1_2_1': 0, 'road_1_1_2_2': 0, 'road_1_2_1_0': 0, 'road_1_2_1_1': 0, 'road_1_2_1_2': 0}\n",
      "Step 900:\n",
      "Vehicles: []\n",
      "Lane vehicles: {'road_1_0_1_0': 0, 'road_1_0_1_1': 0, 'road_1_0_1_2': 0, 'road_1_1_0_0': 0, 'road_1_1_0_1': 0, 'road_1_1_0_2': 0, 'road_1_1_2_0': 0, 'road_1_1_2_1': 0, 'road_1_1_2_2': 0, 'road_1_2_1_0': 0, 'road_1_2_1_1': 0, 'road_1_2_1_2': 0}\n"
     ]
    },
    {
     "name": "stderr",
     "output_type": "stream",
     "text": [
      "[warning] Invalid route 'flow_0'. Omitted by default.\n",
      "[warning] Invalid route 'flow_1'. Omitted by default.\n"
     ]
    }
   ],
   "source": [
    "# Run simulation with detailed monitoring\n",
    "for step in range(1000):\n",
    "    engine.next_step()\n",
    "    if step % 100 == 0:\n",
    "        vehicles = engine.get_vehicles()\n",
    "        print(f\"Step {step}:\")\n",
    "        print(f\"Vehicles: {vehicles}\")\n",
    "        \n",
    "        # Get detailed info for each vehicle\n",
    "        for vehicle_id in vehicles:\n",
    "            vehicle_info = engine.get_vehicle_info(vehicle_id)\n",
    "            print(f\"Vehicle ID: {vehicle_id}, Info: {vehicle_info}\")\n",
    "        \n",
    "        print(f\"Lane vehicles: {engine.get_lane_vehicle_count()}\")"
   ]
  },
  {
   "cell_type": "code",
   "execution_count": null,
   "id": "8e17b336",
   "metadata": {},
   "outputs": [],
   "source": []
  },
  {
   "cell_type": "code",
   "execution_count": null,
   "id": "a49ee8f0",
   "metadata": {},
   "outputs": [
    {
     "name": "stderr",
     "output_type": "stream",
     "text": [
      "[warning] Invalid route 'flow_0'. Omitted by default.\n"
     ]
    },
    {
     "ename": "TypeError",
     "evalue": "get_vehicle_info(): incompatible function arguments. The following argument types are supported:\n    1. (self: cityflow.Engine, vehicle_id: str) -> Dict[str, str]\n\nInvoked with: <cityflow.Engine object at 0x78b18c3a95f0>",
     "output_type": "error",
     "traceback": [
      "\u001b[0;31m---------------------------------------------------------------------------\u001b[0m",
      "\u001b[0;31mTypeError\u001b[0m                                 Traceback (most recent call last)",
      "Cell \u001b[0;32mIn[3], line 6\u001b[0m\n\u001b[1;32m      4\u001b[0m \u001b[38;5;28;01mif\u001b[39;00m step \u001b[38;5;241m%\u001b[39m \u001b[38;5;241m100\u001b[39m \u001b[38;5;241m==\u001b[39m \u001b[38;5;241m0\u001b[39m:\n\u001b[1;32m      5\u001b[0m     vehicles \u001b[38;5;241m=\u001b[39m engine\u001b[38;5;241m.\u001b[39mget_vehicles()\n\u001b[0;32m----> 6\u001b[0m     vehicle_info \u001b[38;5;241m=\u001b[39m \u001b[43mengine\u001b[49m\u001b[38;5;241;43m.\u001b[39;49m\u001b[43mget_vehicle_info\u001b[49m\u001b[43m(\u001b[49m\u001b[43m)\u001b[49m\n\u001b[1;32m      7\u001b[0m     \u001b[38;5;28mprint\u001b[39m(\u001b[38;5;124mf\u001b[39m\u001b[38;5;124m\"\u001b[39m\u001b[38;5;124mStep \u001b[39m\u001b[38;5;132;01m{\u001b[39;00mstep\u001b[38;5;132;01m}\u001b[39;00m\u001b[38;5;124m:\u001b[39m\u001b[38;5;124m\"\u001b[39m)\n\u001b[1;32m      8\u001b[0m     \u001b[38;5;28mprint\u001b[39m(\u001b[38;5;124mf\u001b[39m\u001b[38;5;124m\"\u001b[39m\u001b[38;5;124mVehicles: \u001b[39m\u001b[38;5;132;01m{\u001b[39;00mvehicles\u001b[38;5;132;01m}\u001b[39;00m\u001b[38;5;124m\"\u001b[39m)\n",
      "\u001b[0;31mTypeError\u001b[0m: get_vehicle_info(): incompatible function arguments. The following argument types are supported:\n    1. (self: cityflow.Engine, vehicle_id: str) -> Dict[str, str]\n\nInvoked with: <cityflow.Engine object at 0x78b18c3a95f0>"
     ]
    }
   ],
   "source": [
    "for step in range(1000):\n",
    "    engine.next_step()\n",
    "    if step % 100 == 0:\n",
    "        vehicles = engine.get_vehicles()\n",
    "        print(f\"Step {step}: {len(vehicles)} vehicles\")\n",
    "        if len(vehicles) > 0:\n",
    "            print(f\"Vehicle IDs: {vehicles}\")"
   ]
  }
 ],
 "metadata": {
  "kernelspec": {
   "display_name": "cityflow",
   "language": "python",
   "name": "python3"
  },
  "language_info": {
   "codemirror_mode": {
    "name": "ipython",
    "version": 3
   },
   "file_extension": ".py",
   "mimetype": "text/x-python",
   "name": "python",
   "nbconvert_exporter": "python",
   "pygments_lexer": "ipython3",
   "version": "3.9.22"
  }
 },
 "nbformat": 4,
 "nbformat_minor": 5
}
